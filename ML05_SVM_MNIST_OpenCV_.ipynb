{
  "nbformat": 4,
  "nbformat_minor": 0,
  "metadata": {
    "colab": {
      "provenance": [],
      "gpuType": "T4"
    },
    "kernelspec": {
      "name": "python3",
      "display_name": "Python 3"
    },
    "language_info": {
      "name": "python"
    },
    "accelerator": "GPU"
  },
  "cells": [
    {
      "cell_type": "markdown",
      "source": [
        "# ML05 Support Vector Machine (SVM)"
      ],
      "metadata": {
        "id": "GqHXmS8Hds9Z"
      }
    },
    {
      "cell_type": "code",
      "execution_count": null,
      "metadata": {
        "colab": {
          "base_uri": "https://localhost:8080/"
        },
        "id": "hDqMaIJTPuQv",
        "outputId": "04e5a229-c1f8-46d5-d197-253fb433153f"
      },
      "outputs": [
        {
          "output_type": "stream",
          "name": "stdout",
          "text": [
            "Cloning into 'rapidsai-csp-utils'...\n",
            "remote: Enumerating objects: 495, done.\u001b[K\n",
            "remote: Counting objects: 100% (226/226), done.\u001b[K\n",
            "remote: Compressing objects: 100% (135/135), done.\u001b[K\n",
            "remote: Total 495 (delta 152), reused 124 (delta 91), pack-reused 269 (from 1)\u001b[K\n",
            "Receiving objects: 100% (495/495), 138.65 KiB | 7.70 MiB/s, done.\n",
            "Resolving deltas: 100% (254/254), done.\n",
            "Collecting pynvml\n",
            "  Downloading pynvml-11.5.3-py3-none-any.whl.metadata (8.8 kB)\n",
            "Downloading pynvml-11.5.3-py3-none-any.whl (53 kB)\n",
            "   ━━━━━━━━━━━━━━━━━━━━━━━━━━━━━━━━━━━━━━━━ 53.1/53.1 kB 2.4 MB/s eta 0:00:00\n",
            "Installing collected packages: pynvml\n",
            "Successfully installed pynvml-11.5.3\n",
            "Installing RAPIDS remaining 24.4.* libraries\n",
            "Looking in indexes: https://pypi.org/simple, https://pypi.nvidia.com\n",
            "Requirement already satisfied: cudf-cu12==24.4.* in /usr/local/lib/python3.10/dist-packages (24.4.1)\n",
            "Collecting cuml-cu12==24.4.*\n",
            "  Downloading https://pypi.nvidia.com/cuml-cu12/cuml_cu12-24.4.0-cp310-cp310-manylinux_2_17_x86_64.manylinux2014_x86_64.whl (1200.7 MB)\n",
            "     ━━━━━━━━━━━━━━━━━━━━━━━━━━━━━━━━━━━━━━━━ 1.2/1.2 GB 1.8 MB/s eta 0:00:00\n",
            "Collecting cugraph-cu12==24.4.*\n",
            "  Downloading https://pypi.nvidia.com/cugraph-cu12/cugraph_cu12-24.4.0-cp310-cp310-manylinux_2_17_x86_64.manylinux2014_x86_64.whl (1429.1 MB)\n"
          ]
        }
      ],
      "source": [
        "# Install cuml\n",
        "!git clone https://github.com/rapidsai/rapidsai-csp-utils.git\n",
        "!python rapidsai-csp-utils/colab/pip-install.py"
      ]
    },
    {
      "cell_type": "code",
      "source": [
        "#Download MNIST dataset (via Keras)\n",
        "\n",
        "import numpy as np\n",
        "import tensorflow as tf\n",
        "\n",
        "(x_train, y_train), (x_test, y_test) = tf.keras.datasets.mnist.load_data()\n",
        "\n",
        "#Normalize\n",
        "x_train = np.array([np.ravel(x) for x in x_train]).astype(np.float32) / 225.0\n",
        "x_test = np.array([np.ravel(x) for x in x_test]).astype(np.float32) / 225.0"
      ],
      "metadata": {
        "id": "FWXtcwZ0P3ax"
      },
      "execution_count": null,
      "outputs": []
    },
    {
      "cell_type": "code",
      "source": [
        "import time\n",
        "\n",
        "#cuml\n",
        "from cuml.model_selection import train_test_split\n",
        "from cuml.svm import SVC, SVR\n",
        "\n",
        "\n",
        "#Train\n",
        "t0 = time.time()\n",
        "svc = SVC(C=0.5, kernel=\"linear\", degree=2)\n",
        "svc.fit(x_train,y_train)\n",
        "train_time = time.time() - t0\n",
        "\n",
        "print(f'Train time: {train_time}')\n",
        "\n",
        "\n",
        "#Predict\n",
        "t0 = time.time()\n",
        "pred = svc.predict(x_test)\n",
        "pred_time = time.time() - t0\n",
        "\n",
        "print(f'Predict time: {pred_time}')"
      ],
      "metadata": {
        "colab": {
          "base_uri": "https://localhost:8080/"
        },
        "id": "UblOuHxXQRSO",
        "outputId": "0789e84f-a188-4254-cb16-a27a98fca423"
      },
      "execution_count": null,
      "outputs": [
        {
          "output_type": "stream",
          "name": "stdout",
          "text": [
            "[W] [09:12:52.909676] SVC with the linear kernel can be much faster using the specialized solver provided by LinearSVC. Consider switching to LinearSVC if tranining takes too long.\n",
            "Train time: 9.888054609298706\n",
            "Predict time: 1.1430847644805908\n"
          ]
        }
      ]
    },
    {
      "cell_type": "code",
      "source": [
        "#Scores\n",
        "from sklearn.metrics import classification_report\n",
        "\n",
        "print(classification_report(y_test, pred))"
      ],
      "metadata": {
        "colab": {
          "base_uri": "https://localhost:8080/"
        },
        "id": "Qy72OdNrQYU5",
        "outputId": "180aa70d-9dc4-4d64-acbd-eaf5fc44c529"
      },
      "execution_count": null,
      "outputs": [
        {
          "output_type": "stream",
          "name": "stdout",
          "text": [
            "              precision    recall  f1-score   support\n",
            "\n",
            "           0       0.97      0.97      0.97       980\n",
            "           1       0.98      0.99      0.98      1135\n",
            "           2       0.94      0.93      0.93      1032\n",
            "           3       0.91      0.94      0.93      1010\n",
            "           4       0.94      0.96      0.95       982\n",
            "           5       0.91      0.90      0.91       892\n",
            "           6       0.96      0.96      0.96       958\n",
            "           7       0.95      0.93      0.94      1028\n",
            "           8       0.91      0.91      0.91       974\n",
            "           9       0.94      0.92      0.93      1009\n",
            "\n",
            "    accuracy                           0.94     10000\n",
            "   macro avg       0.94      0.94      0.94     10000\n",
            "weighted avg       0.94      0.94      0.94     10000\n",
            "\n"
          ]
        }
      ]
    },
    {
      "cell_type": "code",
      "source": [
        "# OpenCV\n",
        "\n",
        "import cv2 as cv\n",
        "import numpy as np\n",
        "\n",
        "original_img = cv.imread(\"images/numbers.jpg\")\n",
        "\n",
        "gray = cv.cvtColor(original_img, cv.COLOR_BGR2GRAY)\n",
        "\n",
        "\n",
        "gray[gray < 90] = 0\n",
        "gray[gray >= 90] = 255\n",
        "\n",
        "contours, hierarchy = cv.findContours(gray, cv.RETR_TREE, cv.CHAIN_APPROX_NONE)\n",
        "\n",
        "for contour in contours:\n",
        "    x, y, w, h = cv.boundingRect(contour)\n",
        "\n",
        "    img  = cv.drawContours(original_img, contour, -1, (0,255,0), 2)\n",
        "    print(\"Area :\", cv.contourArea(contour))\n",
        "    print(\"Perimeter :\", cv.arcLength(contour, True))\n",
        "\n",
        "\n",
        "    cv.rectangle(original_img, (x, y), (x + w, y + h), (0, 0, 255), 2)\n",
        "    # rect = cv.minAreaRect(contour)\n",
        "    # box = cv.boxPoints(rect)\n",
        "    # box = np.int0(box)\n",
        "    # img = cv.drawContours(img, [box], 0, (0, 255, 0), 1)\n",
        "\n",
        "    #SVM model\n",
        "    X_test = np.ravel(img)\n",
        "    print(model.predict([X_test]))\n",
        "\n",
        "    cv.imshow(\"num\", img)\n",
        "    cv.waitKey(100)\n",
        "\n",
        "cv.waitKey(0)"
      ],
      "metadata": {
        "id": "Q1X4XSthivO_"
      },
      "execution_count": null,
      "outputs": []
    }
  ]
}